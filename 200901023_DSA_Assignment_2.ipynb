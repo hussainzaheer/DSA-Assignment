{
  "nbformat": 4,
  "nbformat_minor": 0,
  "metadata": {
    "colab": {
      "name": "200901023_DSA_Assignment_2.ipynb",
      "provenance": [],
      "authorship_tag": "ABX9TyOu8BMeAkQ27l8/CSXeRcGP",
      "include_colab_link": true
    },
    "kernelspec": {
      "name": "python3",
      "display_name": "Python 3"
    },
    "language_info": {
      "name": "python"
    }
  },
  "cells": [
    {
      "cell_type": "markdown",
      "metadata": {
        "id": "view-in-github",
        "colab_type": "text"
      },
      "source": [
        "<a href=\"https://colab.research.google.com/github/hussainzaheer/DSA-Assignment/blob/main/200901023_DSA_Assignment_2.ipynb\" target=\"_parent\"><img src=\"https://colab.research.google.com/assets/colab-badge.svg\" alt=\"Open In Colab\"/></a>"
      ]
    },
    {
      "cell_type": "code",
      "metadata": {
        "id": "V_VDnAAy2OBk"
      },
      "source": [
        "class node:\n",
        "  def __init__(self,data=None):\n",
        "    self.data=data\n",
        "    self.next=None\n",
        "\n",
        "class linkedlist:\n",
        "  def __init__(self):\n",
        "    self.head=node()\n",
        "\n",
        "  def insertback (self,data):\n",
        "    if self.head==None:\n",
        "      self.head=data\n",
        "    new_node=node(data)\n",
        "    temp=self.head\n",
        "    while temp.next!=None:\n",
        "      temp=temp.next\n",
        "    temp.next=new_node\n",
        "\n",
        "  def insertfront (self,data):\n",
        "    if self.head==None:\n",
        "      self.head=data\n",
        "    new_node=node(data)\n",
        "    temp=new_node\n",
        "    temp.next=self.head\n",
        "    self.head=new_node\n",
        "  \n",
        "  def insert(self , data , index):\n",
        "    if self.head.data==None:\n",
        "      self.head.data=data\n",
        "    new_node = node(data)\n",
        "    temp = self.head\n",
        "    if index == 0:\n",
        "      new_node.next = self.head\n",
        "      self.head = new_node\n",
        "    count=0\n",
        "    while temp!=None:\n",
        "      if count == index-1:\n",
        "          new_node.next = temp.next\n",
        "          temp.next = new_node\n",
        "          break\n",
        "      temp = temp.next\n",
        "      count= count + 1\n",
        "    else:\n",
        "      print(\"Sorry the value cannot be inserted because previous index doesn't exists\")\n",
        "\n",
        "  def display(self):\n",
        "    temp=self.head\n",
        "    dis=[]\n",
        "    while temp.next!=None:\n",
        "      temp=temp.next \n",
        "      dis.append(temp.data)\n",
        "    print(dis)\n",
        "\n",
        "  def delete_end(self):\n",
        "    temp=self.head\n",
        "    while (temp.next.next):\n",
        "      secondlast_node=temp.next\n",
        "      temp=temp.next\n",
        "    temp.next=None \n",
        "    print('node deleted from end') \n",
        "  \n",
        "  def delete_beg(self):\n",
        "    if self.head==None:\n",
        "      print(\"no nodes exist\")\n",
        "    else:\n",
        "      temp=self.head\n",
        "      self.head=self.head.next\n",
        "      temp=None\n",
        "      print(\"node deleted from front\")\n",
        "  \n",
        "  def delete_mid(self,index):\n",
        "    if self.head==None:\n",
        "      print(\"no node exist\")\n",
        "    count=0\n",
        "    temp=self.head\n",
        "    pre=temp\n",
        "    while count<index:\n",
        "      pre=temp\n",
        "      temp=temp.next\n",
        "      count+=1\n",
        "    pre.next=temp.next\n",
        "    temp.next=None"
      ],
      "execution_count": 8,
      "outputs": []
    },
    {
      "cell_type": "code",
      "metadata": {
        "colab": {
          "base_uri": "https://localhost:8080/"
        },
        "id": "pvLqQnPS2Xem",
        "outputId": "99a3528b-a43f-4cf7-83f6-37507400f218"
      },
      "source": [
        "my_list=linkedlist()\n",
        "my_list.insertback(5)\n",
        "my_list.display()\n",
        "my_list.insertback(7)\n",
        "my_list.insertback(10)\n",
        "my_list.display()\n",
        "my_list.insertfront(4)\n",
        "my_list.display()\n",
        "my_list.insertfront(8)\n",
        "my_list.display()\n",
        "my_list.insertfront(3)\n",
        "my_list.display()"
      ],
      "execution_count": 9,
      "outputs": [
        {
          "output_type": "stream",
          "name": "stdout",
          "text": [
            "[5]\n",
            "[5, 7, 10]\n",
            "[None, 5, 7, 10]\n",
            "[4, None, 5, 7, 10]\n",
            "[8, 4, None, 5, 7, 10]\n"
          ]
        }
      ]
    },
    {
      "cell_type": "code",
      "metadata": {
        "colab": {
          "base_uri": "https://localhost:8080/"
        },
        "id": "dYk2-knI2i1a",
        "outputId": "5d463380-3d0c-4ab2-a972-d2c54120ceb9"
      },
      "source": [
        "my_list.insert(10,15)\n",
        "my_list.insert(14,6)\n",
        "my_list.display()"
      ],
      "execution_count": 10,
      "outputs": [
        {
          "output_type": "stream",
          "name": "stdout",
          "text": [
            "Sorry the value cannot be inserted because previous index doesn't exists\n",
            "[8, 4, None, 5, 7, 14, 10]\n"
          ]
        }
      ]
    },
    {
      "cell_type": "code",
      "metadata": {
        "colab": {
          "base_uri": "https://localhost:8080/"
        },
        "id": "ka0cwIF32nHz",
        "outputId": "82825878-4559-41f5-9f92-d31e2e50074b"
      },
      "source": [
        "my_list.delete_beg()\n",
        "my_list.display()\n",
        "my_list.delete_end()\n",
        "my_list.display()"
      ],
      "execution_count": 11,
      "outputs": [
        {
          "output_type": "stream",
          "name": "stdout",
          "text": [
            "node deleted from front\n",
            "[4, None, 5, 7, 14, 10]\n",
            "node deleted from end\n",
            "[4, None, 5, 7, 14]\n"
          ]
        }
      ]
    }
  ]
}