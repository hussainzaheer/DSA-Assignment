{
  "nbformat": 4,
  "nbformat_minor": 0,
  "metadata": {
    "colab": {
      "name": "Hussain_Zaheer_200901023_DSA_Assignment-1.ipynb",
      "provenance": [],
      "authorship_tag": "ABX9TyPXfAB1w/RoN2pevw2pPS6+",
      "include_colab_link": true
    },
    "kernelspec": {
      "name": "python3",
      "display_name": "Python 3"
    },
    "language_info": {
      "name": "python"
    }
  },
  "cells": [
    {
      "cell_type": "markdown",
      "metadata": {
        "id": "view-in-github",
        "colab_type": "text"
      },
      "source": [
        "<a href=\"https://colab.research.google.com/github/hussainzaheer/DSA-Assignment/blob/main/Hussain_Zaheer_200901023_DSA_Assignment_1.ipynb\" target=\"_parent\"><img src=\"https://colab.research.google.com/assets/colab-badge.svg\" alt=\"Open In Colab\"/></a>"
      ]
    },
    {
      "cell_type": "code",
      "metadata": {
        "id": "odXkLO7_Gpfu",
        "colab": {
          "base_uri": "https://localhost:8080/"
        },
        "outputId": "f9def9e2-dec5-4286-8812-58eca7a2dfa5"
      },
      "source": [
        "\"\"\"What values are returned during the following series of stack operations, if executed upon an initially empty stack?\n",
        "push(5), push(3), pop(), push(2), push(8), pop(), pop(), push(9), push(1), pop(), push(7), push(6), pop(), pop(), push(4), pop(), pop()\"\"\"\n",
        "\n",
        "class stack:\n",
        "    def __init__(self):\n",
        "        self.numbers=[]\n",
        "    def push(self,value):\n",
        "        self.numbers.append(value)\n",
        "    def pop(self):\n",
        "        self.numbers.pop()\n",
        "q=stack()\n",
        "q.push(5)\n",
        "q.push(3)\n",
        "q.pop()\n",
        "q.push(2)\n",
        "q.push(8)\n",
        "q.pop()\n",
        "q.pop()\n",
        "q.push(9)\n",
        "q.push(1)\n",
        "q.pop()\n",
        "q.push(7)\n",
        "q.push(6)\n",
        "q.pop()\n",
        "q.pop()\n",
        "q.push(4)\n",
        "q.pop()\n",
        "q.pop()\n",
        "print(q.numbers)"
      ],
      "execution_count": null,
      "outputs": [
        {
          "output_type": "stream",
          "name": "stdout",
          "text": [
            "[5]\n"
          ]
        }
      ]
    },
    {
      "cell_type": "code",
      "metadata": {
        "id": "0JJsEOBnc_7M"
      },
      "source": [
        "\"\"\"Q2 : Suppose an initially empty stack S has executed a total of 25 push opera\n",
        "tions, 12 top operations, and 10 pop operations, 3 of which raised Empty\n",
        "errors that were caught and ignored. What is the current size of S?\"\"\"\n",
        "\n",
        "We pushed a sum of 25 components, then, at that point, popped a complete number of 10-3=7 components, \n",
        "since 3 of the pops didnt change the state and size of the stack, \n",
        "so just 7 pops did.Top activity dont change the state and size of the stack and it tends to be overlooked. \n",
        "\n",
        "Complete size of the stack is 25-7=18 toward the end."
      ],
      "execution_count": null,
      "outputs": []
    },
    {
      "cell_type": "code",
      "metadata": {
        "id": "tidCOhv9SA68",
        "colab": {
          "base_uri": "https://localhost:8080/"
        },
        "outputId": "44e17ea7-c5ab-460a-a0c0-4fabf49ea1aa"
      },
      "source": [
        "\"\"\"Q3 : Implement a function with signature transfer(S, T) \n",
        "that transfers all ele ments from stack S onto stack T., \n",
        "so that the element that starts at the top of 5 is the \n",
        "first to be inserted onto T. and the element at the bottom\n",
        "of S ends up at the top of T\"\"\"\n",
        "\n",
        "from collections import deque\n",
        "\n",
        "stack = deque()\n",
        "T =deque()\n",
        "S = input(\"Enter the name:\")\n",
        "for x in S:\n",
        "   stack.append(x)\n",
        "print(stack)\n",
        "while len(stack)!=0:\n",
        "   T.append(stack.pop())\n",
        "print(T)"
      ],
      "execution_count": null,
      "outputs": [
        {
          "output_type": "stream",
          "name": "stdout",
          "text": [
            "Enter the name:HUSSAIN\n",
            "deque(['H', 'U', 'S', 'S', 'A', 'I', 'N'])\n",
            "deque(['N', 'I', 'A', 'S', 'S', 'U', 'H'])\n"
          ]
        }
      ]
    },
    {
      "cell_type": "code",
      "metadata": {
        "id": "lKBVHhaFrr_q",
        "colab": {
          "base_uri": "https://localhost:8080/"
        },
        "outputId": "d18f37d0-f77f-41c8-df41-fcc488560629"
      },
      "source": [
        "\"\"\"Q4 : Give a recursive method for removing all the elements from a stack.\"\"\"\n",
        "\n",
        "class Stack: \n",
        " def __init__(value): \n",
        "  value.items = []\n",
        " def isEmpty(value): \n",
        "  return value.items == []\n",
        " def push(value, item): \n",
        "  value.items.insert(0,item)\n",
        " def pop(value): \n",
        "  return value.items.pop(0)\n",
        " def peek(value): \n",
        "  return value.items[0]\n",
        " def size(value): \n",
        "  return len(value.items)\n",
        " def recursiveE(value,stack): \n",
        "  if(stack==[]):\n",
        "   print(\"Stack Is Empty.\")\n",
        "   print(\"Program Is Terminated.\")\n",
        "   exit\n",
        "  else:\n",
        "   print(\"Element Removed is \",s.pop())\n",
        "   s.recursiveE(stack)\n",
        "s = Stack()\n",
        "s.push('Welcome')\n",
        "s.push('To The')\n",
        "s.push('Future')\n",
        "s.recursiveE(s.items)\n"
      ],
      "execution_count": null,
      "outputs": [
        {
          "output_type": "stream",
          "name": "stdout",
          "text": [
            "Element Removed is  Future\n",
            "Element Removed is  To The\n",
            "Element Removed is  Welcome\n",
            "Stack Is Empty.\n",
            "Program Is Terminated.\n"
          ]
        }
      ]
    },
    {
      "cell_type": "code",
      "metadata": {
        "colab": {
          "base_uri": "https://localhost:8080/"
        },
        "id": "NY7IjxVNuBZK",
        "outputId": "705f76c9-7d78-4bd1-e03e-b5c79dd41588"
      },
      "source": [
        "\"\"\"Q5 : Implement a function that reverses a list of elements by pushing them onto a stack in one order, and writing them back to the list in reversed order.\"\"\"\n",
        "\n",
        "def reverse_list(list):\n",
        "   st = []\n",
        "   for a in list:\n",
        "       st.append(a)\n",
        "   list = []\n",
        "   while len(st)>0 :\n",
        "       list.append(st.pop())\n",
        "   return list\n",
        "s = reverse_list(['a','b','c'])\n",
        "print(s)"
      ],
      "execution_count": null,
      "outputs": [
        {
          "output_type": "stream",
          "name": "stdout",
          "text": [
            "['c', 'b', 'a']\n"
          ]
        }
      ]
    },
    {
      "cell_type": "code",
      "metadata": {
        "id": "pdzewOvzwFCD",
        "colab": {
          "base_uri": "https://localhost:8080/"
        },
        "outputId": "5c7ab2e7-b43e-467f-f18c-0e99fb9b4869"
      },
      "source": [
        "\"\"\"Q6 : An arithmetic expression has matching grouping symbols if it has one of the following structures,\n",
        "where X denotes an arithmetic expression without grouping symbols, \n",
        "and y, y′, and y′′ recursively denote an arithmetic expression with matching grouping symbols\"\"\"\n",
        "\n",
        "#The concept of matching grouping symbols can be understood easily by the help of an example as follows:\n",
        "\n",
        "from collections import deque\n",
        "\n",
        "balance = input(\"Enter: \")\n",
        "stack = deque()\n",
        "for x in balance:\n",
        "  stack.append(x)\n",
        "if(stack.count('(')!=stack.count(')')): \n",
        "  print(\"Round brackets are not balanced\")\n",
        "else:\n",
        "  print(\"Round brackets are balanced\")  \n",
        "if(stack.count('{')!= stack.count('}')):\n",
        "  print(\"Curly brackets are not balanced\")\n",
        "else:\n",
        "  print(\"Curly brackets are balanced\") \n",
        "if(stack.count('[')!= stack.count(']')):\n",
        "  print(\"Square brackets are not balanced\")\n",
        "else:\n",
        "  print(\"Square brackets are balanced\")\n",
        " "
      ],
      "execution_count": null,
      "outputs": [
        {
          "output_type": "stream",
          "name": "stdout",
          "text": [
            "Enter: [{()}]\n",
            "Round brackets are balanced\n",
            "Curly brackets are balanced\n",
            "Square brackets are balanced\n"
          ]
        }
      ]
    },
    {
      "cell_type": "code",
      "metadata": {
        "id": "Z-pTPUE1wFOM",
        "colab": {
          "base_uri": "https://localhost:8080/"
        },
        "outputId": "520d902e-3f91-4da4-ac87-3d60d3b015d7"
      },
      "source": [
        "\"\"\"Q7 : What values are returned during the following sequence of queue opera tions. \n",
        "I execu on an initially empty queue? \n",
        "enqueue(5), enqueue(3). dequeue (), enqueue(2), enqueue(8), dequeue(), dequeue(),\n",
        "enqueue(9), enqueue(1), dequeue (), enqueue(7), enqueue (6), dequeue (), dequeue(). enqueue(4), dequeue(), dequeue().\"\"\"\n",
        "\n",
        "from queue import Queue\n",
        "queue = []\n",
        "queue.append(5)\n",
        "queue.append(3)\n",
        "queue.pop()\n",
        "queue.append(2)\n",
        "queue.append(8)\n",
        "queue.pop()\n",
        "queue.pop()\n",
        "queue.append(9)\n",
        "queue.append(1)\n",
        "queue.pop()\n",
        "queue.append(7)\n",
        "queue.append(6)\n",
        "queue.pop()\n",
        "queue.pop()\n",
        "queue.append(4)\n",
        "queue.pop()\n",
        "queue.pop()\n",
        "print(queue)"
      ],
      "execution_count": null,
      "outputs": [
        {
          "output_type": "stream",
          "name": "stdout",
          "text": [
            "[5]\n"
          ]
        }
      ]
    },
    {
      "cell_type": "code",
      "metadata": {
        "id": "37Dc7z6GwFXX"
      },
      "source": [
        "\"\"\"Q8 : Suppose an initially empty queue Q has executed a total of 32 enqueue operations,\n",
        "10 first operations, and 15 dequeue operations. 5 of which raised Empty errors that were caught and ignored.\n",
        "What is the current size of Q?\"\"\"\n",
        "\n",
        "At first 5 dequeue operations failed in 15 and front operation returns front element without dequeing it.\n",
        "Therefore,\n",
        "32 -( 15-5 ) = 22.\n",
        "So,\n",
        "22 will be the correct answer."
      ],
      "execution_count": null,
      "outputs": []
    },
    {
      "cell_type": "code",
      "metadata": {
        "id": "wV9CMODkwFgH"
      },
      "source": [
        "\"\"\"Q9 : Had the queue of the previous problem been an instance of ArrayQueue that used an initial array of capacity 30,\n",
        "and had its size never been greater than 30, what would be the final value of the front instance variable?\"\"\"\n",
        "\n",
        "The final value of front instance variable is 5."
      ],
      "execution_count": null,
      "outputs": []
    },
    {
      "cell_type": "code",
      "metadata": {
        "id": "539jvp4H3Ryp"
      },
      "source": [
        "\"\"\"Q10 : Consider what happens if the loop in the ArrayQueue-resize method at\n",
        "lines 53-55 of Code Fragment 6.7 had been implemented as:\n",
        "for k in range(self._size): self_data[k] = old[k]\n",
        "#rather than old[walk] Give a clear explanation of what could go wrong.\"\"\"\n",
        "\n",
        "#I couldn't understand the answer to this question. So, I would like to leave it blank."
      ],
      "execution_count": null,
      "outputs": []
    },
    {
      "cell_type": "code",
      "metadata": {
        "colab": {
          "base_uri": "https://localhost:8080/"
        },
        "id": "JLPKKjji3R8t",
        "outputId": "14df6e1b-7a7a-48f8-cf95-998bb12346d1"
      },
      "source": [
        "\"\"\"Q11: Give a simple adapter that implemenyts our queue ADT\"\"\"\n",
        "\n",
        "from collections import deque\n",
        "class Queue:  \n",
        "    def __init__(value):\n",
        "        value.queue = deque()\n",
        "    def enqueue(value, item):\n",
        "        value.queue.append(item)\n",
        "    def isEmpty(value):\n",
        "      return len(value.queue) == 0\n",
        "    def enqueueLeft(value, item):\n",
        "        value.queue.appendleft(item)\n",
        "    def first(value):\n",
        "        return value.queue[0]\n",
        "    def dequeue(value):\n",
        "        if value.isEmpty():\n",
        "          print(\"EMPTY!\")\n",
        "        else:\n",
        "          return value.queue.popleft()\n",
        "          value.size -= 1\n",
        "    def display(value):\n",
        "        print(value.queue)\n",
        "    def size(value):\n",
        "        return len(value.queue)\n",
        "q = Queue()\n",
        "for r in range(10):\n",
        "  q.enqueue(r)\n",
        "q.display()\n",
        "q.dequeue()\n",
        "q.display()"
      ],
      "execution_count": null,
      "outputs": [
        {
          "output_type": "stream",
          "name": "stdout",
          "text": [
            "deque([0, 1, 2, 3, 4, 5, 6, 7, 8, 9])\n",
            "deque([1, 2, 3, 4, 5, 6, 7, 8, 9])\n"
          ]
        }
      ]
    },
    {
      "cell_type": "code",
      "metadata": {
        "colab": {
          "base_uri": "https://localhost:8080/"
        },
        "id": "0umnhYPSECle",
        "outputId": "c3efa888-5d27-4ae7-870f-7b4e2a106581"
      },
      "source": [
        "\"\"\"Q12 : What values are returned during the following sequence of deque ADT op erations, on initially empty deque?\n",
        "add_first (4), add_last(8), add_last (9). add_first(5), back(). delete_first(), delete_last(). add_last(7), \n",
        "first(). last().add_last(6). delete_first(), delete.first().\"\"\"\n",
        "\n",
        "from collections import deque\n",
        "class DEQUE():\n",
        "    def __init__(self):\n",
        "        self.size=deque()\n",
        "    def add_first(self,size):\n",
        "        self.size.appendleft(size)\n",
        "    def add_last(self,size):\n",
        "        self.size.append(size)\n",
        "    def back(self):\n",
        "        return self.size[-1]\n",
        "    def front(self):\n",
        "        return self.size[0]\n",
        "    def delete_first(self):\n",
        "        self.size.pop()\n",
        "    def delete_last(self):\n",
        "        self.size.pop()\n",
        "    def first(self):\n",
        "        return self.size[0]\n",
        "    def last(self):\n",
        "        return self.size[-1] \n",
        "D=DEQUE()\n",
        "D.add_first(4)\n",
        "D.back()\n",
        "D.delete_first()\n",
        "D.add_last(8)\n",
        "D.add_last(9)\n",
        "D.add_first(5)\n",
        "D.back()\n",
        "D.delete_first()\n",
        "D.delete_last()\n",
        "D.add_last(7)\n",
        "D.first()\n",
        "D.last()\n",
        "D.add_last(9)\n",
        "D.delete_first()\n",
        "D.delete_first()\n",
        "print(D.size)"
      ],
      "execution_count": 1,
      "outputs": [
        {
          "output_type": "stream",
          "name": "stdout",
          "text": [
            "deque([5])\n"
          ]
        }
      ]
    },
    {
      "cell_type": "code",
      "metadata": {
        "id": "D9c897_aHfcw"
      },
      "source": [
        "\"\"\"Q13 : Suppose you have a deque D containing the numbers (1,2,3,4,5,6,7,8).\n",
        "in this order. Suppose further that you have an initially empty queue Q.\n",
        "Give a code fragment that uses only D and Q (and no other variables) and\n",
        "results in D storing the elements in the order (1,2,3,5,4,6,7.8).\"\"\"\n",
        "\n",
        "def queue_queue():\n",
        "    D.dequeue = [1,2,3,4,5,6,7,8]\n",
        "    for i in D:\n",
        "        D.pop()\n",
        "\n",
        "    Q = []\n",
        "    while D.is_empty():\n",
        "        Q.enqueue(D)\n",
        "\n",
        "It shows the at first, the elements are in deque in the form of list and Q is empty.\n",
        "So, While loop will pop out values as long as the stack will be empty. On the other hand, enqueue will keep appending the same elements in the list\n",
        "Therefore, the elements would be in same order as previous."
      ],
      "execution_count": null,
      "outputs": []
    },
    {
      "cell_type": "code",
      "metadata": {
        "id": "ID33r4m3ECxQ",
        "colab": {
          "base_uri": "https://localhost:8080/"
        },
        "outputId": "05d137c9-c5f5-47bc-a3cb-dff97cc1a229"
      },
      "source": [
        "\"\"\"Q14\"\"\"\n",
        "\n",
        "from collections import deque\n",
        "S = []\n",
        "D = collections.deque()\n",
        "\n",
        "for i in range(1,9,1):\n",
        "    D.append(i)\n",
        "        \n",
        "def rearrange_using_stack(D, S):\n",
        "    for _ in range(4):\n",
        "        S.append(D.popleft())   \n",
        "        \n",
        "    D.append(S.pop())          \n",
        "    \n",
        "    S.append(D.popleft())        \n",
        "    \n",
        "    S.append(D.pop())            \n",
        "    \n",
        "    for _ in range(5):\n",
        "        D.appendleft(S.pop())  \n",
        "        \n",
        "rearrange_using_stack(D, S) \n",
        "        \n",
        "print('Values of S',S)\n",
        "      \n",
        "print('Values of D:',D)\n",
        "    "
      ],
      "execution_count": 16,
      "outputs": [
        {
          "output_type": "stream",
          "name": "stdout",
          "text": [
            "Values of S []\n",
            "Values of D: deque([1, 2, 3, 5, 4, 6, 7, 8])\n"
          ]
        }
      ]
    }
  ]
}